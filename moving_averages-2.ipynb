{
 "cells": [
  {
   "cell_type": "code",
   "execution_count": null,
   "metadata": {},
   "outputs": [],
   "source": [
    "import pandas as pd\n",
    "import numpy as np\n",
    "from dateutil.relativedelta import relativedelta\n",
    "import datetime\n",
    "from datetime import datetime\n",
    "from sklearn.linear_model import LinearRegression\n",
    "import matplotlib.pyplot as plt\n",
    "from scipy import stats\n",
    "from sklearn import metrics"
   ]
  },
  {
   "cell_type": "code",
   "execution_count": null,
   "metadata": {},
   "outputs": [],
   "source": [
    "df = pd.read_csv(r'sp500_final_6y.csv', sep= '\\t', index_col = 0)\n",
    "df1 = pd.read_csv(r'VOO_data_6y.csv', sep= ',')"
   ]
  },
  {
   "cell_type": "code",
   "execution_count": null,
   "metadata": {},
   "outputs": [],
   "source": [
    "df['Day Average'] = round(((df['High'] + df['Low'] + df['Open'] + df['Close'])/4), 5)\n",
    "df1['Day Average'] = round(((df1['High'] + df1['Low'] + df1['Open'] + df1['Close'])/4), 5)"
   ]
  },
  {
   "cell_type": "code",
   "execution_count": null,
   "metadata": {},
   "outputs": [],
   "source": [
    "df1"
   ]
  },
  {
   "cell_type": "code",
   "execution_count": null,
   "metadata": {},
   "outputs": [],
   "source": [
    "df2 = df1.sort_values('Date', ascending = False)\n",
    "list5 =  []\n",
    "list6 = []\n",
    "list7 = []\n",
    "count = 0\n",
    "for i in range(0, (len(list(df2['Day Average'])))):\n",
    "    seven_day_avg = (df2.iloc[i:i+7]['Day Average'].sum())/len(list(df2.iloc[i:i+7]['Day Average']))\n",
    "    list5.append(round(seven_day_avg, 4))\n",
    "df2['7 Day Avg'] = list5\n",
    "for i in range(0, (len(list(df2['Day Average'])))):\n",
    "    seven_day_avg = (df2.iloc[i:i+50]['Day Average'].sum())/len(list(df2.iloc[i:i+50]['Day Average']))\n",
    "    list6.append(round(seven_day_avg, 4))\n",
    "df2['50 Day Avg'] = list6\n",
    "for i in range(0, (len(list(df2['Day Average'])))):\n",
    "    seven_day_avg = (df2.iloc[i:i+200]['Day Average'].sum())/len(list(df2.iloc[i:i+200]['Day Average']))\n",
    "    list7.append(round(seven_day_avg, 4))\n",
    "df2['200 Day Avg'] = list7\n",
    "df2 = df2.sort_values('Date', ascending = True)"
   ]
  },
  {
   "cell_type": "code",
   "execution_count": null,
   "metadata": {},
   "outputs": [],
   "source": [
    "df2.to_csv(r'VOO_data_6y_wMA.csv', sep= ',')"
   ]
  },
  {
   "cell_type": "code",
   "execution_count": null,
   "metadata": {},
   "outputs": [],
   "source": [
    "df3 = df.groupby('Name', as_index = False)[\"Close\"].count()"
   ]
  },
  {
   "cell_type": "code",
   "execution_count": null,
   "metadata": {},
   "outputs": [],
   "source": [
    "list1 = list(df3['Name'])"
   ]
  },
  {
   "cell_type": "code",
   "execution_count": null,
   "metadata": {
    "scrolled": true
   },
   "outputs": [],
   "source": [
    "df5 = pd.DataFrame()\n",
    "counter = 0\n",
    "for i in list1:\n",
    "    df4 = df[df['Name'] == i]\n",
    "    df2 = df4.sort_values('Date', ascending = False)\n",
    "    list5 =  []\n",
    "    list6 = []\n",
    "    list7 = []\n",
    "    count = 0\n",
    "    for i in range(0, (len(list(df2['Day Average'])))):\n",
    "        seven_day_avg = (df2.iloc[i:i+7]['Day Average'].sum())/len(list(df2.iloc[i:i+7]['Day Average']))\n",
    "        list5.append(round(seven_day_avg, 4))\n",
    "    df2['7 Day Avg'] = list5\n",
    "    for i in range(0, (len(list(df2['Day Average'])))):\n",
    "        seven_day_avg = (df2.iloc[i:i+50]['Day Average'].sum())/len(list(df2.iloc[i:i+50]['Day Average']))\n",
    "        list6.append(round(seven_day_avg, 4))\n",
    "    df2['50 Day Avg'] = list6\n",
    "    for i in range(0, (len(list(df2['Day Average'])))):\n",
    "        seven_day_avg = (df2.iloc[i:i+200]['Day Average'].sum())/len(list(df2.iloc[i:i+200]['Day Average']))\n",
    "        list7.append(round(seven_day_avg, 4))\n",
    "    df2['200 Day Avg'] = list7\n",
    "    df2 = df2.sort_values('Date', ascending = True)\n",
    "    df5 = df5.append(df2)\n",
    "    counter += 1\n",
    "    print(counter)"
   ]
  },
  {
   "cell_type": "code",
   "execution_count": null,
   "metadata": {},
   "outputs": [],
   "source": [
    "df5"
   ]
  },
  {
   "cell_type": "code",
   "execution_count": null,
   "metadata": {},
   "outputs": [],
   "source": [
    "df5.to_csv(r'sp500_final_6y_wMA.csv', sep = ',')"
   ]
  },
  {
   "cell_type": "code",
   "execution_count": null,
   "metadata": {},
   "outputs": [],
   "source": [
    "df6 = df5[df5['Name'] == 'GOOG']"
   ]
  },
  {
   "cell_type": "code",
   "execution_count": null,
   "metadata": {},
   "outputs": [],
   "source": []
  }
 ],
 "metadata": {
  "kernelspec": {
   "display_name": "Python 3",
   "language": "python",
   "name": "python3"
  },
  "language_info": {
   "codemirror_mode": {
    "name": "ipython",
    "version": 3
   },
   "file_extension": ".py",
   "mimetype": "text/x-python",
   "name": "python",
   "nbconvert_exporter": "python",
   "pygments_lexer": "ipython3",
   "version": "3.8.3"
  }
 },
 "nbformat": 4,
 "nbformat_minor": 4
}
