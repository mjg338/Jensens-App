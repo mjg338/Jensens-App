{
 "cells": [
  {
   "cell_type": "code",
   "execution_count": 1,
   "metadata": {},
   "outputs": [
    {
     "name": "stdout",
     "output_type": "stream",
     "text": [
      "VOO\n"
     ]
    }
   ],
   "source": [
    "from datetime import datetime\n",
    "from concurrent import futures\n",
    "\n",
    "import pandas as pd\n",
    "from pandas import DataFrame\n",
    "import pandas_datareader.data as web\n",
    "\n",
    "def download_stock(stock):\n",
    "\ttry:\n",
    "\t\tprint(stock)\n",
    "\t\tstock_df = web.DataReader(stock,'yahoo', start_time, now_time)\n",
    "\t\tstock_df['Name'] = stock\n",
    "\t\toutput_name = stock + '_data_6y.csv'\n",
    "\t\tstock_df.to_csv(output_name)\n",
    "\texcept:\n",
    "\t\tbad_names.append(stock)\n",
    "\t\tprint('bad: %s' % (stock))\n",
    "    \n",
    "\n",
    "if __name__ == '__main__':\n",
    "\n",
    "\n",
    "\tnow_time = datetime.now()\n",
    "\tstart_time = datetime(now_time.year - 6, now_time.month , now_time.day)\n",
    "\n",
    "\ts_and_p = ['VOO']\n",
    "\t\t\n",
    "\tbad_names =[] #to keep track of failed queries\n",
    "\n",
    "\t#set the maximum thread number\n",
    "\tmax_workers = 50\n",
    "\n",
    "\tworkers = min(max_workers, len(s_and_p)) #in case a smaller number of stocks than threads was passed in\n",
    "\twith futures.ThreadPoolExecutor(workers) as executor:\n",
    "\t\tres = executor.map(download_stock, s_and_p)\n",
    "\n",
    "\t\n",
    "\tif len(bad_names) > 0:\n",
    "\t\twith open('failed_queries.txt','w') as outfile:\n",
    "\t\t\tfor name in bad_names:\n",
    "\t\t\t\toutfile.write(name+'\\n')"
   ]
  },
  {
   "cell_type": "code",
   "execution_count": 19,
   "metadata": {},
   "outputs": [
    {
     "data": {
      "text/html": [
       "<div>\n",
       "<style scoped>\n",
       "    .dataframe tbody tr th:only-of-type {\n",
       "        vertical-align: middle;\n",
       "    }\n",
       "\n",
       "    .dataframe tbody tr th {\n",
       "        vertical-align: top;\n",
       "    }\n",
       "\n",
       "    .dataframe thead th {\n",
       "        text-align: right;\n",
       "    }\n",
       "</style>\n",
       "<table border=\"1\" class=\"dataframe\">\n",
       "  <thead>\n",
       "    <tr style=\"text-align: right;\">\n",
       "      <th></th>\n",
       "    </tr>\n",
       "  </thead>\n",
       "  <tbody>\n",
       "  </tbody>\n",
       "</table>\n",
       "</div>"
      ],
      "text/plain": [
       "Empty DataFrame\n",
       "Columns: []\n",
       "Index: []"
      ]
     },
     "execution_count": 19,
     "metadata": {},
     "output_type": "execute_result"
    }
   ],
   "source": [
    "sp500_df"
   ]
  },
  {
   "cell_type": "code",
   "execution_count": null,
   "metadata": {},
   "outputs": [],
   "source": []
  }
 ],
 "metadata": {
  "kernelspec": {
   "display_name": "Python 3",
   "language": "python",
   "name": "python3"
  },
  "language_info": {
   "codemirror_mode": {
    "name": "ipython",
    "version": 3
   },
   "file_extension": ".py",
   "mimetype": "text/x-python",
   "name": "python",
   "nbconvert_exporter": "python",
   "pygments_lexer": "ipython3",
   "version": "3.8.3"
  }
 },
 "nbformat": 4,
 "nbformat_minor": 4
}
